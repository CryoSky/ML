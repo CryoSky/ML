{
 "cells": [
  {
   "cell_type": "markdown",
   "metadata": {},
   "source": [
    "### Multiclass Support Vector Machines\n",
    "In this exercise you will:\n",
    "- implement a fully-vectorized loss function for the mulri-class SVM\n",
    "- implement the fully-vectorized expression for its analytic gradient\n",
    "- check your implementation using numerical gradient\n",
    "- use a validation set to tune the learning rate and regularization strength\n",
    "- optimize the loss function with SGD\n",
    "- visualize the final learned parameters"
   ]
  },
  {
   "cell_type": "code",
   "execution_count": 2,
   "metadata": {
    "collapsed": false
   },
   "outputs": [
    {
     "name": "stdout",
     "output_type": "stream",
     "text": [
      "The autoreload extension is already loaded. To reload it, use:\n",
      "  %reload_ext autoreload\n"
     ]
    }
   ],
   "source": [
    "# Run some setup code for this notebook.\n",
    "\n",
    "import random\n",
    "import numpy as np\n",
    "from data_utils import load_CIFAR10\n",
    "import matplotlib.pyplot as plt\n",
    "\n",
    "# This is a bit of magic to make matplotlib figures appear inline in the\n",
    "# notebook rather than in a new window.\n",
    "%matplotlib inline\n",
    "plt.rcParams['figure.figsize'] = (10.0, 8.0) # set default size of plots\n",
    "plt.rcParams['image.interpolation'] = 'nearest'\n",
    "plt.rcParams['image.cmap'] = 'gray'\n",
    "\n",
    "# Some more magic so that the notebook will reload external python modules;\n",
    "# see http://stackoverflow.com/questions/1907993/autoreload-of-modules-in-ipython\n",
    "%load_ext autoreload\n",
    "%autoreload 2"
   ]
  },
  {
   "cell_type": "markdown",
   "metadata": {},
   "source": [
    "### CIFAR-10 Data Loading and Preprocessing\n",
    "Open up a terminal window and navigate to the datasets folder inside the hw3 folder. Run the get_datasets.sh script. On my Mac, I just type in ./get_datasets.sh at the shell prompt. A new folder called cifar_10_batches_py will be created and it will contain 50000 labeled images for training and  10000 labeled images for testing. The function further partitions the  50000 training images into a train set and a validation set for selection of hyperparameters. We have provided a function to read this data in **data_utils.py**. Each image is a  32×32\n",
    "array of RGB triples. It is preprocessed by subtracting the mean image from all images. We flatten each image into a 1-dimensional array of size 3072 (i.e.,  32×32×3). Then a 1 is appended to the front of that vector to handle the intercept term. So the training set is a numpy matrix of size  49000×3073, the validation set is a matrix of size  1000×3073 and the set-aside test set is of size  10000×3073. We also have a random sample of 500 images from the training data to serve as a development set or dev set to test our gradient and loss function implementations."
   ]
  },
  {
   "cell_type": "code",
   "execution_count": 3,
   "metadata": {
    "collapsed": false
   },
   "outputs": [
    {
     "name": "stdout",
     "output_type": "stream",
     "text": [
      "Train data shape:  (49000L, 32L, 32L, 3L)\n",
      "Train labels shape:  (49000L,)\n",
      "Validation data shape:  (1000L, 32L, 32L, 3L)\n",
      "Validation labels shape:  (1000L,)\n",
      "Test data shape:  (10000L, 32L, 32L, 3L)\n",
      "Test labels shape:  (10000L,)\n",
      "Training data shape:  (49000L, 3072L)\n",
      "Validation data shape:  (1000L, 3072L)\n",
      "Test data shape:  (10000L, 3072L)\n",
      "dev data shape:  (500L, 3072L)\n",
      "Training data shape with bias term:  (49000L, 3073L)\n",
      "Validation data shape with bias term:  (1000L, 3073L)\n",
      "Test data shape with bias term:  (10000L, 3073L)\n",
      "Devset data shape with bias term:  (500L, 3073L)\n"
     ]
    }
   ],
   "source": [
    "import data_utils\n",
    "\n",
    "# Get the CIFAR-10 data broken up into train, validation and test sets\n",
    "\n",
    "X_train, y_train, X_val, y_val, X_dev, y_dev, X_test, y_test = data_utils.get_CIFAR10_data()"
   ]
  },
  {
   "cell_type": "markdown",
   "metadata": {},
   "source": [
    "### SVM Classifier\n",
    "Your code for this section will all be written inside **linear_svm.py**.\n",
    "As you can see, we have prefilled the function **naive_loss_svm** which uses for loops to evaluate the multiclass SVM loss function."
   ]
  },
  {
   "cell_type": "code",
   "execution_count": 11,
   "metadata": {
    "collapsed": false
   },
   "outputs": [
    {
     "name": "stdout",
     "output_type": "stream",
     "text": [
      "loss: 9.540696\n",
      "grad:  [[ -1.37660477e+01  -3.10504789e+00   6.32296295e+00 ...,  -2.42381211e+00\n",
      "   -1.97276662e+01  -3.89858783e+01]\n",
      " [ -2.50121977e+01   7.07388701e-01   6.28997940e+00 ...,  -3.57383636e+00\n",
      "   -3.01776300e+01  -4.40982854e+01]\n",
      " [ -4.58255973e+01  -3.60302196e-01   1.90038963e+01 ...,  -3.30532755e+00\n",
      "   -4.88547733e+01  -5.55103522e+01]\n",
      " ..., \n",
      " [ -1.01281609e+01  -2.30814600e+00   1.00584866e+00 ...,  -8.52192653e+00\n",
      "    1.26421108e+01  -9.93304853e+00]\n",
      " [ -2.34671487e+01  -8.61248549e+00   9.12943794e+00 ...,   5.86103241e+00\n",
      "   -6.11981243e+00  -1.42058245e+01]\n",
      " [ -4.12244898e-03   2.91020408e-02  -6.71428571e-03 ...,   8.95918367e-03\n",
      "    9.08163265e-03  -1.89795918e-02]]\n"
     ]
    }
   ],
   "source": [
    "# Evaluate the naive implementation of the loss we provided for you:\n",
    "from linear_svm import svm_loss_naive\n",
    "import time\n",
    "\n",
    "# generate a random SVM coefficient matrix of small numbers\n",
    "theta = np.random.randn(3073, 10) * 0.0001 \n",
    "\n",
    "loss, grad = svm_loss_naive(theta, X_train, y_train, 0.00001)\n",
    "print 'loss: %f' % (loss, )\n",
    "print 'grad: ', grad"
   ]
  },
  {
   "cell_type": "markdown",
   "metadata": {},
   "source": [
    "The grad returned from the function above is right now all zero. Derive and implement the gradient for the SVM cost function and implement it inline inside the function **svm_loss_naive**. You will find it helpful to interleave your new code inside the existing function.\n",
    "To check that you have correctly implemented the gradient correctly, you can numerically estimate the gradient of the loss function and compare the numeric estimate to the gradient that you computed. We have provided code that does this for you."
   ]
  },
  {
   "cell_type": "code",
   "execution_count": 12,
   "metadata": {
    "collapsed": false
   },
   "outputs": [
    {
     "name": "stdout",
     "output_type": "stream",
     "text": [
      "numerical: 6.345868 analytic: 6.345868, relative error: 3.949775e-11\n",
      "numerical: 1.319320 analytic: 1.319320, relative error: 1.970471e-10\n",
      "numerical: 12.102490 analytic: 12.102490, relative error: 3.248369e-11\n",
      "numerical: -4.752108 analytic: -4.752108, relative error: 7.323820e-11\n",
      "numerical: 14.859450 analytic: 14.859450, relative error: 1.006249e-11\n",
      "numerical: -9.373231 analytic: -9.373231, relative error: 2.089182e-11\n",
      "numerical: -5.822962 analytic: -5.822962, relative error: 3.025996e-11\n",
      "numerical: 1.309338 analytic: 1.309338, relative error: 5.916987e-11\n",
      "numerical: 1.564783 analytic: 1.564783, relative error: 1.105174e-10\n",
      "numerical: 19.340438 analytic: 19.340438, relative error: 1.137880e-11\n",
      "numerical: -30.999339 analytic: -31.014563, relative error: 2.454891e-04\n",
      "numerical: -29.964865 analytic: -29.915268, relative error: 8.282653e-04\n",
      "numerical: 7.441008 analytic: 7.441008, relative error: 3.423452e-11\n",
      "numerical: 3.948717 analytic: 3.948717, relative error: 8.632802e-11\n",
      "numerical: 15.282538 analytic: 15.282538, relative error: 4.159274e-12\n",
      "numerical: -2.312007 analytic: -2.312007, relative error: 1.138539e-10\n",
      "numerical: -30.983328 analytic: -30.999006, relative error: 2.529475e-04\n",
      "numerical: 5.373178 analytic: 5.373178, relative error: 7.044114e-11\n",
      "numerical: -49.696071 analytic: -49.696071, relative error: 5.588782e-12\n",
      "numerical: -13.876050 analytic: -13.848929, relative error: 9.782354e-04\n"
     ]
    }
   ],
   "source": [
    "# Once you've implemented the gradient, recompute it with the code below\n",
    "# and gradient check it with the function we provided for you\n",
    "\n",
    "# Compute the loss and its gradient at theta.\n",
    "loss, grad = svm_loss_naive(theta, X_dev, y_dev, 0.0)\n",
    "\n",
    "# Numerically compute the gradient along several randomly chosen dimensions, and\n",
    "# compare them with your analytically computed gradient. The numbers should match\n",
    "# almost exactly along all dimensions.\n",
    "from gradient_check import grad_check_sparse\n",
    "f = lambda th: svm_loss_naive(th, X_dev, y_dev, 0.0)[0]\n",
    "grad_numerical = grad_check_sparse(f, theta, grad)\n",
    "\n",
    "# do the gradient check once again with regularization turned on\n",
    "# you didn't forget the regularization gradient did you?\n",
    "loss, grad = svm_loss_naive(theta, X_dev, y_dev, 1e2)\n",
    "f = lambda w: svm_loss_naive(theta, X_dev, y_dev, 1e2)[0]\n",
    "grad_numerical = grad_check_sparse(f, theta, grad)"
   ]
  },
  {
   "cell_type": "code",
   "execution_count": 13,
   "metadata": {
    "collapsed": false
   },
   "outputs": [
    {
     "name": "stdout",
     "output_type": "stream",
     "text": [
      "Naive loss: 9.647413e+00 computed in 0.052000s\n",
      "Vectorized loss: 9.647413e+00 computed in 0.016000s\n",
      "difference: -0.000000\n"
     ]
    }
   ],
   "source": [
    "# Next implement the function svm_loss_vectorized; for now only compute the loss;\n",
    "# we will implement the gradient in a moment.\n",
    "tic = time.time()\n",
    "loss_naive, grad_naive = svm_loss_naive(theta, X_dev, y_dev, 0.00001)\n",
    "toc = time.time()\n",
    "print 'Naive loss: %e computed in %fs' % (loss_naive, toc - tic)\n",
    "\n",
    "from linear_svm import svm_loss_vectorized\n",
    "tic = time.time()\n",
    "loss_vectorized, _ = svm_loss_vectorized(theta, X_dev, y_dev, 0.00001)\n",
    "toc = time.time()\n",
    "print 'Vectorized loss: %e computed in %fs' % (loss_vectorized, toc - tic)\n",
    "\n",
    "# The losses should match but your vectorized implementation should be much faster.\n",
    "print 'difference: %f' % (loss_naive - loss_vectorized)"
   ]
  },
  {
   "cell_type": "markdown",
   "metadata": {},
   "source": [
    "### Vectorized version of the gradient computation\n",
    "Complete the implementation of svm_loss_vectorized, and compute the gradient\n",
    "of the loss function in a vectorized way.\n",
    "\n"
   ]
  },
  {
   "cell_type": "code",
   "execution_count": 14,
   "metadata": {
    "collapsed": false
   },
   "outputs": [
    {
     "name": "stdout",
     "output_type": "stream",
     "text": [
      "Naive loss and gradient: computed in 0.052000s\n",
      "Vectorized loss and gradient: computed in 0.016000s\n",
      "difference: 0.000000\n"
     ]
    }
   ],
   "source": [
    "# The naive implementation and the vectorized implementation should match, but\n",
    "# the vectorized version should still be much faster.\n",
    "tic = time.time()\n",
    "_, grad_naive = svm_loss_naive(theta, X_dev, y_dev, 0.00001)\n",
    "toc = time.time()\n",
    "print 'Naive loss and gradient: computed in %fs' % (toc - tic)\n",
    "\n",
    "tic = time.time()\n",
    "_, grad_vectorized = svm_loss_vectorized(theta, X_dev, y_dev, 0.00001)\n",
    "toc = time.time()\n",
    "print 'Vectorized loss and gradient: computed in %fs' % (toc - tic)\n",
    "\n",
    "# The loss is a single number, so it is easy to compare the values computed\n",
    "# by the two implementations. The gradient on the other hand is a matrix, so\n",
    "# we use the Frobenius norm to compare them.\n",
    "difference = np.linalg.norm(grad_naive - grad_vectorized, ord='fro')\n",
    "print 'difference: %f' % difference"
   ]
  },
  {
   "cell_type": "code",
   "execution_count": 15,
   "metadata": {
    "collapsed": false
   },
   "outputs": [
    {
     "name": "stdout",
     "output_type": "stream",
     "text": [
      "iteration 0 / 1500: loss 22.668313\n",
      "iteration 100 / 1500: loss 11.045997\n",
      "iteration 200 / 1500: loss 9.580544\n",
      "iteration 300 / 1500: loss 8.832710\n",
      "iteration 400 / 1500: loss 8.348009\n",
      "iteration 500 / 1500: loss 7.994555\n",
      "iteration 600 / 1500: loss 7.717100\n",
      "iteration 700 / 1500: loss 7.490441\n",
      "iteration 800 / 1500: loss 7.298543\n",
      "iteration 900 / 1500: loss 7.132500\n",
      "iteration 1000 / 1500: loss 6.986114\n",
      "iteration 1100 / 1500: loss 6.856084\n",
      "iteration 1200 / 1500: loss 6.739334\n",
      "iteration 1300 / 1500: loss 6.633532\n",
      "iteration 1400 / 1500: loss 6.536807\n",
      "That took 1238.592000s\n"
     ]
    }
   ],
   "source": [
    "# In the file linear_classifier.py, we have implemented SGD in the function\n",
    "# LinearClassifier.train() and you can run it with the code below.\n",
    "from linear_classifier import LinearSVM\n",
    "svm = LinearSVM()\n",
    "tic = time.time()\n",
    "loss_hist = svm.train(X_train, y_train, learning_rate=1e-7, reg=5e-4,\n",
    "                      num_iters=1500, batch_size=200,verbose=True)\n",
    "toc = time.time()\n",
    "print 'That took %fs' % (toc - tic)"
   ]
  },
  {
   "cell_type": "code",
   "execution_count": 17,
   "metadata": {
    "collapsed": false
   },
   "outputs": [
    {
     "data": {
      "image/png": "[encoded data removed]",
      "text/plain": [
       "<matplotlib.figure.Figure at 0x10b8e3c8>"
      ]
     },
     "metadata": {},
     "output_type": "display_data"
    },
    {
     "data": {
      "text/plain": [
       "<matplotlib.figure.Figure at 0x10a52080>"
      ]
     },
     "metadata": {},
     "output_type": "display_data"
    }
   ],
   "source": [
    "# A useful debugging strategy is to plot the loss as a function of\n",
    "# iteration number:\n",
    "plt.plot(loss_hist)\n",
    "plt.xlabel('Iteration number')\n",
    "plt.ylabel('Loss value')\n",
    "#plt.show()\n",
    "plt.savefig(\"loss.png\")"
   ]
  },
  {
   "cell_type": "markdown",
   "metadata": {},
   "source": [
    "### Prediction with an SVM\n",
    "Compute $\\theta^T  x$ for a new example $x$ and pick the class with the highest score."
   ]
  },
  {
   "cell_type": "code",
   "execution_count": 19,
   "metadata": {
    "collapsed": false
   },
   "outputs": [
    {
     "name": "stdout",
     "output_type": "stream",
     "text": [
      "training accuracy: 0.306306\n",
      "validation accuracy: 0.312000\n"
     ]
    }
   ],
   "source": [
    "# Write the LinearSVM.predict function and evaluate the performance on both the\n",
    "# training and validation set\n",
    "y_train_pred = svm.predict(X_train)\n",
    "print 'training accuracy: %f' % (np.mean(y_train == y_train_pred), )\n",
    "y_val_pred = svm.predict(X_val)\n",
    "print 'validation accuracy: %f' % (np.mean(y_val == y_val_pred), )"
   ]
  },
  {
   "cell_type": "markdown",
   "metadata": {},
   "source": [
    "## "
   ]
  },
  {
   "cell_type": "code",
   "execution_count": 21,
   "metadata": {
    "collapsed": false
   },
   "outputs": [
    {
     "name": "stdout",
     "output_type": "stream",
     "text": [
      "('LR', 1e-07, 'reg', 10000.0)\n",
      "iteration 0 / 1500: loss 87.780708\n",
      "iteration 100 / 1500: loss 63.660018\n",
      "iteration 200 / 1500: loss 58.819336\n",
      "iteration 300 / 1500: loss 56.243048\n",
      "iteration 400 / 1500: loss 54.540640\n",
      "iteration 500 / 1500: loss 53.305892\n",
      "iteration 600 / 1500: loss 52.358167\n",
      "iteration 700 / 1500: loss 51.602733\n",
      "iteration 800 / 1500: loss 50.985460\n",
      "iteration 900 / 1500: loss 50.467705\n",
      "iteration 1000 / 1500: loss 50.026775\n",
      "iteration 1100 / 1500: loss 49.643895\n",
      "iteration 1200 / 1500: loss 49.308154\n",
      "iteration 1300 / 1500: loss 49.009401\n",
      "iteration 1400 / 1500: loss 48.741410\n",
      "('LR', 1e-07, 'reg', 50000.0)\n",
      "iteration 0 / 1500: loss 91.414350\n",
      "iteration 100 / 1500: loss 63.367545\n",
      "iteration 200 / 1500: loss 58.586406\n",
      "iteration 300 / 1500: loss 56.058864\n",
      "iteration 400 / 1500: loss 54.384491\n",
      "iteration 500 / 1500: loss 53.175872\n",
      "iteration 600 / 1500: loss 52.254978\n",
      "iteration 700 / 1500: loss 51.521113\n",
      "iteration 800 / 1500: loss 50.919189\n",
      "iteration 900 / 1500: loss 50.412872\n",
      "iteration 1000 / 1500: loss 49.979013\n",
      "iteration 1100 / 1500: loss 49.601042\n",
      "iteration 1200 / 1500: loss 49.268600\n",
      "iteration 1300 / 1500: loss 48.973188\n",
      "iteration 1400 / 1500: loss 48.707739\n",
      "('LR', 1e-07, 'reg', 100000.0)\n",
      "iteration 0 / 1500: loss 94.021357\n",
      "iteration 100 / 1500: loss 63.815883\n",
      "iteration 200 / 1500: loss 58.434049\n",
      "iteration 300 / 1500: loss 55.776439\n",
      "iteration 400 / 1500: loss 54.097432\n",
      "iteration 500 / 1500: loss 52.908067\n",
      "iteration 600 / 1500: loss 52.006692\n",
      "iteration 700 / 1500: loss 51.291536\n",
      "iteration 800 / 1500: loss 50.707774\n",
      "iteration 900 / 1500: loss 50.220548\n",
      "iteration 1000 / 1500: loss 49.804189\n",
      "iteration 1100 / 1500: loss 49.440802\n",
      "iteration 1200 / 1500: loss 49.120879\n",
      "iteration 1300 / 1500: loss 48.836475\n",
      "iteration 1400 / 1500: loss 48.580685\n",
      "('LR', 1e-07, 'reg', 500000.0)\n",
      "iteration 0 / 1500: loss 91.490200\n",
      "iteration 100 / 1500: loss 62.771016\n",
      "iteration 200 / 1500: loss 58.002852\n",
      "iteration 300 / 1500: loss 55.593774\n",
      "iteration 400 / 1500: loss 54.035980\n",
      "iteration 500 / 1500: loss 52.911552\n",
      "iteration 600 / 1500: loss 52.054326\n",
      "iteration 700 / 1500: loss 51.371965\n",
      "iteration 800 / 1500: loss 50.811422\n",
      "iteration 900 / 1500: loss 50.339111\n",
      "iteration 1000 / 1500: loss 49.935608\n",
      "iteration 1100 / 1500: loss 49.583748\n",
      "iteration 1200 / 1500: loss 49.272535\n",
      "iteration 1300 / 1500: loss 48.993758\n",
      "iteration 1400 / 1500: loss 48.742700\n",
      "('LR', 5e-07, 'reg', 10000.0)\n",
      "iteration 0 / 1500: loss 90.196316\n",
      "iteration 100 / 1500: loss 52.536196\n",
      "iteration 200 / 1500: loss 49.607126\n",
      "iteration 300 / 1500: loss 48.185655\n",
      "iteration 400 / 1500: loss 47.290304\n",
      "iteration 500 / 1500: loss 46.647112\n",
      "iteration 600 / 1500: loss 46.154591\n",
      "iteration 700 / 1500: loss 45.759613\n",
      "iteration 800 / 1500: loss 45.430846\n",
      "iteration 900 / 1500: loss 45.149275\n",
      "iteration 1000 / 1500: loss 44.903791\n",
      "iteration 1100 / 1500: loss 44.685902\n",
      "iteration 1200 / 1500: loss 44.489707\n",
      "iteration 1300 / 1500: loss 44.311001\n",
      "iteration 1400 / 1500: loss 44.147680\n",
      "('LR', 5e-07, 'reg', 50000.0)\n",
      "iteration 0 / 1500: loss 86.711376\n",
      "iteration 100 / 1500: loss 52.809401\n",
      "iteration 200 / 1500: loss 49.731048\n",
      "iteration 300 / 1500: loss 48.272361\n",
      "iteration 400 / 1500: loss 47.362442\n",
      "iteration 500 / 1500: loss 46.714877\n",
      "iteration 600 / 1500: loss 46.218366\n",
      "iteration 700 / 1500: loss 45.820445\n",
      "iteration 800 / 1500: loss 45.488428\n",
      "iteration 900 / 1500: loss 45.203363\n",
      "iteration 1000 / 1500: loss 44.954711\n",
      "iteration 1100 / 1500: loss 44.734011\n",
      "iteration 1200 / 1500: loss 44.536228\n",
      "iteration 1300 / 1500: loss 44.356362\n",
      "iteration 1400 / 1500: loss 44.191477\n",
      "('LR', 5e-07, 'reg', 100000.0)\n",
      "iteration 0 / 1500: loss 92.757896\n",
      "iteration 100 / 1500: loss 52.486713\n",
      "iteration 200 / 1500: loss 49.631693\n",
      "iteration 300 / 1500: loss 48.264050\n",
      "iteration 400 / 1500: loss 47.389433\n",
      "iteration 500 / 1500: loss 46.758979\n",
      "iteration 600 / 1500: loss 46.272695\n",
      "iteration 700 / 1500: loss 45.879174\n",
      "iteration 800 / 1500: loss 45.548979\n",
      "iteration 900 / 1500: loss 45.265728\n",
      "iteration 1000 / 1500: loss 45.018245\n",
      "iteration 1100 / 1500: loss 44.798554\n",
      "iteration 1200 / 1500: loss 44.600631\n",
      "iteration 1300 / 1500: loss 44.420194\n",
      "iteration 1400 / 1500: loss 44.254462\n",
      "('LR', 5e-07, 'reg', 500000.0)\n",
      "iteration 0 / 1500: loss 90.682990\n",
      "iteration 100 / 1500: loss 52.664118\n",
      "iteration 200 / 1500: loss 49.795801\n",
      "iteration 300 / 1500: loss 48.422526\n",
      "iteration 400 / 1500: loss 47.551135\n",
      "iteration 500 / 1500: loss 46.920938\n",
      "iteration 600 / 1500: loss 46.432875\n",
      "iteration 700 / 1500: loss 46.036690\n",
      "iteration 800 / 1500: loss 45.704712\n",
      "iteration 900 / 1500: loss 45.419695\n",
      "iteration 1000 / 1500: loss 45.169480\n",
      "iteration 1100 / 1500: loss 44.946708\n",
      "iteration 1200 / 1500: loss 44.746694\n",
      "iteration 1300 / 1500: loss 44.565153\n",
      "iteration 1400 / 1500: loss 44.399400\n",
      "('LR', 1e-06, 'reg', 10000.0)\n",
      "iteration 0 / 1500: loss 87.880839\n",
      "iteration 100 / 1500: loss 49.830178\n",
      "iteration 200 / 1500: loss 47.423421\n",
      "iteration 300 / 1500: loss 46.270795\n",
      "iteration 400 / 1500: loss 45.536302\n",
      "iteration 500 / 1500: loss 44.996554\n",
      "iteration 600 / 1500: loss 44.571075\n",
      "iteration 700 / 1500: loss 44.221271\n",
      "iteration 800 / 1500: loss 43.924722\n",
      "iteration 900 / 1500: loss 43.667819\n",
      "iteration 1000 / 1500: loss 43.441345\n",
      "iteration 1100 / 1500: loss 43.239659\n",
      "iteration 1200 / 1500: loss 43.058094\n",
      "iteration 1300 / 1500: loss 42.893436\n",
      "iteration 1400 / 1500: loss 42.742967\n",
      "('LR', 1e-06, 'reg', 50000.0)\n",
      "iteration 0 / 1500: loss 87.125816\n",
      "iteration 100 / 1500: loss 49.769170\n",
      "iteration 200 / 1500: loss 47.410470\n",
      "iteration 300 / 1500: loss 46.264042\n",
      "iteration 400 / 1500: loss 45.531453\n",
      "iteration 500 / 1500: loss 44.998648\n",
      "iteration 600 / 1500: loss 44.580267\n",
      "iteration 700 / 1500: loss 44.236372\n",
      "iteration 800 / 1500: loss 43.945311\n",
      "iteration 900 / 1500: loss 43.692836\n",
      "iteration 1000 / 1500: loss 43.471015\n",
      "iteration 1100 / 1500: loss 43.273003\n",
      "iteration 1200 / 1500: loss 43.094310\n",
      "iteration 1300 / 1500: loss 42.931640\n",
      "iteration 1400 / 1500: loss 42.782894\n",
      "('LR', 1e-06, 'reg', 100000.0)\n",
      "iteration 0 / 1500: loss 92.436719\n",
      "iteration 100 / 1500: loss 49.911634\n",
      "iteration 200 / 1500: loss 47.514685\n",
      "iteration 300 / 1500: loss 46.358147\n",
      "iteration 400 / 1500: loss 45.616092\n",
      "iteration 500 / 1500: loss 45.074214\n",
      "iteration 600 / 1500: loss 44.644353\n",
      "iteration 700 / 1500: loss 44.290062\n",
      "iteration 800 / 1500: loss 43.990344\n",
      "iteration 900 / 1500: loss 43.730719\n",
      "iteration 1000 / 1500: loss 43.502612\n",
      "iteration 1100 / 1500: loss 43.299649\n",
      "iteration 1200 / 1500: loss 43.117076\n",
      "iteration 1300 / 1500: loss 42.951552\n",
      "iteration 1400 / 1500: loss 42.800610\n",
      "('LR', 1e-06, 'reg', 500000.0)\n",
      "iteration 0 / 1500: loss 88.168442\n",
      "iteration 100 / 1500: loss 49.778579\n",
      "iteration 200 / 1500: loss 47.477039\n",
      "iteration 300 / 1500: loss 46.364443\n",
      "iteration 400 / 1500: loss 45.646445\n",
      "iteration 500 / 1500: loss 45.118842\n",
      "iteration 600 / 1500: loss 44.704712\n",
      "iteration 700 / 1500: loss 44.364790\n",
      "iteration 800 / 1500: loss 44.077215\n",
      "iteration 900 / 1500: loss 43.828431\n",
      "iteration 1000 / 1500: loss 43.609513\n",
      "iteration 1100 / 1500: loss 43.414847\n",
      "iteration 1200 / 1500: loss 43.239598\n",
      "iteration 1300 / 1500: loss 43.080233\n",
      "iteration 1400 / 1500: loss 42.934318\n",
      "('LR', 5e-05, 'reg', 10000.0)\n",
      "iteration 0 / 1500: loss 89.892813\n",
      "iteration 100 / 1500: loss 118.223826\n",
      "iteration 200 / 1500: loss 113.116333\n",
      "iteration 300 / 1500: loss 110.402715\n",
      "iteration 400 / 1500: loss 109.312158\n",
      "iteration 500 / 1500: loss 107.390225\n",
      "iteration 600 / 1500: loss 105.473910\n",
      "iteration 700 / 1500: loss 104.608737\n",
      "iteration 800 / 1500: loss 103.944997\n",
      "iteration 900 / 1500: loss 103.330017\n",
      "iteration 1000 / 1500: loss 102.801795\n",
      "iteration 1100 / 1500: loss 102.378381\n",
      "iteration 1200 / 1500: loss 101.883127\n",
      "iteration 1300 / 1500: loss 101.439191\n",
      "iteration 1400 / 1500: loss 100.970585\n",
      "('LR', 5e-05, 'reg', 50000.0)\n",
      "iteration 0 / 1500: loss 89.211742\n",
      "iteration 100 / 1500: loss 118.520241\n",
      "iteration 200 / 1500: loss 113.291552\n",
      "iteration 300 / 1500: loss 110.647139\n",
      "iteration 400 / 1500: loss 108.874432\n",
      "iteration 500 / 1500: loss 106.666105\n",
      "iteration 600 / 1500: loss 105.772712\n",
      "iteration 700 / 1500: loss 104.971805\n",
      "iteration 800 / 1500: loss 104.293679\n",
      "iteration 900 / 1500: loss 103.655037\n",
      "iteration 1000 / 1500: loss 103.205370\n",
      "iteration 1100 / 1500: loss 102.782784\n",
      "iteration 1200 / 1500: loss 102.415145\n",
      "iteration 1300 / 1500: loss 101.873172\n",
      "iteration 1400 / 1500: loss 101.767779\n",
      "('LR', 5e-05, 'reg', 100000.0)\n",
      "iteration 0 / 1500: loss 87.133167\n",
      "iteration 100 / 1500: loss 120.320742\n",
      "iteration 200 / 1500: loss 116.760220\n",
      "iteration 300 / 1500: loss 114.725136\n",
      "iteration 400 / 1500: loss 113.095312\n",
      "iteration 500 / 1500: loss 111.911750\n",
      "iteration 600 / 1500: loss 110.612192\n",
      "iteration 700 / 1500: loss 109.284261\n",
      "iteration 800 / 1500: loss 108.601384\n",
      "iteration 900 / 1500: loss 108.562855\n",
      "iteration 1000 / 1500: loss 108.314634\n",
      "iteration 1100 / 1500: loss 107.264356\n",
      "iteration 1200 / 1500: loss 106.377863\n",
      "iteration 1300 / 1500: loss 106.871763\n",
      "iteration 1400 / 1500: loss 106.693558\n",
      "('LR', 5e-05, 'reg', 500000.0)\n",
      "iteration 0 / 1500: loss 89.522303\n",
      "iteration 100 / 1500: loss 119.563682\n",
      "iteration 200 / 1500: loss 114.983513\n",
      "iteration 300 / 1500: loss 112.736271\n",
      "iteration 400 / 1500: loss 111.272530\n",
      "iteration 500 / 1500: loss 109.131516\n",
      "iteration 600 / 1500: loss 108.394044\n",
      "iteration 700 / 1500: loss 107.870944\n",
      "iteration 800 / 1500: loss 107.714753\n",
      "iteration 900 / 1500: loss 107.297954\n",
      "iteration 1000 / 1500: loss 106.869552\n",
      "iteration 1100 / 1500: loss 106.855481\n",
      "iteration 1200 / 1500: loss 106.722881\n",
      "iteration 1300 / 1500: loss 106.558277\n",
      "iteration 1400 / 1500: loss 106.515032\n",
      "lr 1.000000e-07 reg 1.000000e+04 train accuracy: 0.362755 val accuracy: 0.377000\n",
      "lr 1.000000e-07 reg 5.000000e+04 train accuracy: 0.361143 val accuracy: 0.357000\n",
      "lr 1.000000e-07 reg 1.000000e+05 train accuracy: 0.362776 val accuracy: 0.383000\n",
      "lr 1.000000e-07 reg 5.000000e+05 train accuracy: 0.361163 val accuracy: 0.380000\n",
      "lr 5.000000e-07 reg 1.000000e+04 train accuracy: 0.395755 val accuracy: 0.385000\n",
      "lr 5.000000e-07 reg 5.000000e+04 train accuracy: 0.393122 val accuracy: 0.395000\n",
      "lr 5.000000e-07 reg 1.000000e+05 train accuracy: 0.394735 val accuracy: 0.386000\n",
      "lr 5.000000e-07 reg 5.000000e+05 train accuracy: 0.395224 val accuracy: 0.394000\n",
      "lr 1.000000e-06 reg 1.000000e+04 train accuracy: 0.407245 val accuracy: 0.406000\n",
      "lr 1.000000e-06 reg 5.000000e+04 train accuracy: 0.406184 val accuracy: 0.389000\n",
      "lr 1.000000e-06 reg 1.000000e+05 train accuracy: 0.406224 val accuracy: 0.399000\n",
      "lr 1.000000e-06 reg 5.000000e+05 train accuracy: 0.406429 val accuracy: 0.382000\n",
      "lr 5.000000e-05 reg 1.000000e+04 train accuracy: 0.322612 val accuracy: 0.307000\n",
      "lr 5.000000e-05 reg 5.000000e+04 train accuracy: 0.321898 val accuracy: 0.305000\n",
      "lr 5.000000e-05 reg 1.000000e+05 train accuracy: 0.333082 val accuracy: 0.336000\n",
      "lr 5.000000e-05 reg 5.000000e+05 train accuracy: 0.316735 val accuracy: 0.300000\n",
      "best validation accuracy achieved during cross-validation: 0.406000\n"
     ]
    }
   ],
   "source": [
    "# Use the validation set to tune hyperparameters (regularization strength and\n",
    "# learning rate). You should experiment with different ranges for the learning\n",
    "# rates and regularization strengths; if you are careful you should be able to\n",
    "# get a classification accuracy of about 0.4 on the validation set.\n",
    "learning_rates = [1e-7, 5e-7, 1e-6, 5e-5]\n",
    "regularization_strengths = [1e4, 5e4, 1e5, 5e5]\n",
    "\n",
    "# results is dictionary mapping tuples of the form\n",
    "# (learning_rate, regularization_strength) to tuples of the form\n",
    "# (training_accuracy, validation_accuracy). The accuracy is simply the fraction\n",
    "# of data points that are correctly classified.\n",
    "results = {}\n",
    "best_val = -1   # The highest validation accuracy that we have seen so far.\n",
    "best_svm = None # The LinearSVM object that achieved the highest validation rate.\n",
    "\n",
    "################################################################################\n",
    "# TODO:                                                                        #\n",
    "# Write code that chooses the best hyperparameters by tuning on the validation #\n",
    "# set. For each combination of hyperparameters, train a linear SVM on the      #\n",
    "# training set, compute its accuracy on the training and validation sets, and  #\n",
    "# store these numbers in the results dictionary. In addition, store the best   #\n",
    "# validation accuracy in best_val and the LinearSVM object that achieves this  #\n",
    "# accuracy in best_svm.                                                        #\n",
    "#                                                                              #\n",
    "# Hint: You should use a small value for num_iters as you develop your         #\n",
    "# validation code so that the SVMs don't take much time to train; once you are #\n",
    "# confident that your validation code works, you should rerun the validation   #\n",
    "# code with a larger value for num_iters.                                      #\n",
    "################################################################################\n",
    "\n",
    "for learning_rate in learning_rates:\n",
    "    for reg in regularization_strengths:\n",
    "        print(\"LR\",learning_rate,\"reg\",reg)\n",
    "        svm = LinearSVM()\n",
    "        loss_hist = svm.train(X_train, y_train, learning_rate, reg,\n",
    "                      num_iters=1500, verbose=True)\n",
    "        y_train_pred = svm.predict(X_train)\n",
    "        y_val_pred = svm.predict(X_val)\n",
    "        results[(learning_rate,reg)] = (np.mean(y_train == y_train_pred),np.mean(y_val == y_val_pred))\n",
    "        \n",
    "        if best_val < np.mean(y_val == y_val_pred):\n",
    "            best_val = np.mean(y_val == y_val_pred)\n",
    "            best_parameters = { 'LR':learning_rate, 'reg': reg}\n",
    "            best_svm=svm\n",
    "################################################################################\n",
    "#                              END OF YOUR CODE                                #\n",
    "################################################################################\n",
    "    \n",
    "# Print out results.\n",
    "for lr, reg in sorted(results):\n",
    "    train_accuracy, val_accuracy = results[(lr, reg)]\n",
    "    print 'lr %e reg %e train accuracy: %f val accuracy: %f' % (\n",
    "                lr, reg, train_accuracy, val_accuracy)\n",
    "    \n",
    "print 'best validation accuracy achieved during cross-validation: %f' % best_val"
   ]
  },
  {
   "cell_type": "code",
   "execution_count": 23,
   "metadata": {
    "collapsed": false
   },
   "outputs": [
    {
     "data": {
      "image/png": "[encoded data removed]",
      "text/plain": [
       "<matplotlib.figure.Figure at 0x7ba2048>"
      ]
     },
     "metadata": {},
     "output_type": "display_data"
    }
   ],
   "source": [
    "\n",
    "\n",
    "# Visualize the cross-validation results\n",
    "import math\n",
    "x_scatter = [math.log10(x[0]) for x in results]\n",
    "y_scatter = [math.log10(x[1]) for x in results]\n",
    "\n",
    "# plot training accuracy\n",
    "marker_size = 100\n",
    "colors = [results[x][0] for x in results]\n",
    "plt.subplot(2, 1, 1)\n",
    "plt.scatter(x_scatter, y_scatter, marker_size, c=colors)\n",
    "plt.colorbar()\n",
    "plt.xlabel('log learning rate')\n",
    "plt.ylabel('log regularization strength')\n",
    "plt.title('CIFAR-10 training accuracy')\n",
    "\n",
    "# plot validation accuracy\n",
    "colors = [results[x][1] for x in results] # default size of markers is 20\n",
    "plt.subplot(2, 1, 2)\n",
    "plt.scatter(x_scatter, y_scatter, marker_size, c=colors)\n",
    "plt.colorbar()\n",
    "plt.xlabel('log learning rate')\n",
    "plt.ylabel('log regularization strength')\n",
    "plt.title('CIFAR-10 validation accuracy')\n",
    "#plt.show()\n",
    "plt.savefig(\"visz.png\")"
   ]
  },
  {
   "cell_type": "code",
   "execution_count": 25,
   "metadata": {
    "collapsed": false
   },
   "outputs": [
    {
     "name": "stdout",
     "output_type": "stream",
     "text": [
      "iteration 0 / 1500: loss 104.047959\n",
      "iteration 100 / 1500: loss 48.714864\n",
      "iteration 200 / 1500: loss 46.966524\n",
      "iteration 300 / 1500: loss 45.868290\n",
      "iteration 400 / 1500: loss 45.092064\n",
      "iteration 500 / 1500: loss 44.502539\n",
      "iteration 600 / 1500: loss 44.028805\n",
      "iteration 700 / 1500: loss 43.632399\n",
      "iteration 800 / 1500: loss 43.290553\n",
      "iteration 900 / 1500: loss 42.990145\n",
      "iteration 1000 / 1500: loss 42.722043\n",
      "iteration 1100 / 1500: loss 42.479858\n",
      "iteration 1200 / 1500: loss 42.260011\n",
      "iteration 1300 / 1500: loss 42.058385\n",
      "iteration 1400 / 1500: loss 41.872023\n",
      "linear SVM on raw pixels final test set accuracy: 0.369100\n"
     ]
    }
   ],
   "source": [
    "# Evaluate the best svm on test set\n",
    "\n",
    "best_svm=svm\n",
    "y_test_pred = best_svm.predict(X_test)\n",
    "test_accuracy = np.mean(y_test == y_test_pred)\n",
    "print 'linear SVM on raw pixels final test set accuracy: %f' % test_accuracy"
   ]
  },
  {
   "cell_type": "code",
   "execution_count": 29,
   "metadata": {
    "collapsed": false
   },
   "outputs": [
    {
     "data": {
      "image/png": "[encoded data removed]",
      "text/plain": [
       "<matplotlib.figure.Figure at 0xf740668>"
      ]
     },
     "metadata": {},
     "output_type": "display_data"
    }
   ],
   "source": [
    "# Visualize the learned weights for each class.\n",
    "# Depending on your choice of learning rate and regularization strength, these may\n",
    "# or may not be nice to look at.\n",
    "\n",
    "theta = best_svm.theta[:-1,:] # strip out the bias\n",
    "#theta = svm.theta[:-1,:]\n",
    "theta = theta.reshape(32, 32, 3, 10)\n",
    "theta_min, theta_max = np.min(theta), np.max(theta)\n",
    "classes = ['plane', 'car', 'bird', 'cat', 'deer', 'dog', 'frog', 'horse', 'ship', 'truck']\n",
    "for i in xrange(10):\n",
    "  plt.subplot(2, 5, i + 1)\n",
    "    \n",
    "  # Rescale the weights to be between 0 and 255\n",
    "  thetaimg = 255.0 * (theta[:, :, :, i].squeeze() - theta_min) / (theta_max - theta_min)\n",
    "  plt.imshow(thetaimg.astype('uint8'))\n",
    "  plt.axis('off')\n",
    "  plt.title(classes[i])\n",
    "plt.savefig(\"hw4fe.png\")"
   ]
  },
  {
   "cell_type": "code",
   "execution_count": null,
   "metadata": {
    "collapsed": true
   },
   "outputs": [],
   "source": []
  }
 ],
 "metadata": {
  "anaconda-cloud": {},
  "kernelspec": {
   "display_name": "Python 2",
   "language": "python",
   "name": "python2"
  },
  "language_info": {
   "codemirror_mode": {
    "name": "ipython",
    "version": 2
   },
   "file_extension": ".py",
   "mimetype": "text/x-python",
   "name": "python",
   "nbconvert_exporter": "python",
   "pygments_lexer": "ipython2",
   "version": "2.7.13"
  }
 },
 "nbformat": 4,
 "nbformat_minor": 1
}
